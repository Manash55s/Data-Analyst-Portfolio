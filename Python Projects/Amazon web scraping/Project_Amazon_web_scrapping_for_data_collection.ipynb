{
  "cells": [
    {
      "cell_type": "markdown",
      "source": [
        "# Project: Amazon web scrapping for data collection"
      ],
      "metadata": {
        "id": "OqVyzJqIK01N"
      },
      "id": "OqVyzJqIK01N"
    },
    {
      "cell_type": "markdown",
      "source": [
        "Import necessary Libraries"
      ],
      "metadata": {
        "id": "_TC-zBAVLCF_"
      },
      "id": "_TC-zBAVLCF_"
    },
    {
      "cell_type": "code",
      "execution_count": null,
      "id": "a8f28838",
      "metadata": {
        "id": "a8f28838"
      },
      "outputs": [],
      "source": [
        "# Import libraries\n",
        "from bs4 import BeautifulSoup\n",
        "import requests\n",
        "import time\n",
        "import datetime\n",
        "\n",
        "import smtplib"
      ]
    },
    {
      "cell_type": "markdown",
      "source": [
        "Connect to the website using BeautifulSoup"
      ],
      "metadata": {
        "id": "nOX-S6BYLTq5"
      },
      "id": "nOX-S6BYLTq5"
    },
    {
      "cell_type": "code",
      "execution_count": null,
      "id": "30b45ac7",
      "metadata": {
        "id": "30b45ac7",
        "outputId": "23cefdb6-7475-4ce9-9dc1-28e7ae74a619"
      },
      "outputs": [
        {
          "name": "stdout",
          "output_type": "stream",
          "text": [
            "\n",
            "                   DUDEME While Alive Eat Sleep Code | Geek Half Sleeve T Shirt for Men | Round Neck Cotton T Shirt | Programmer T Shirt | Developer T Shirt | Coding T Shirt for Coders\n",
            "                  \n",
            "\n",
            "                   499\n",
            "                  \n"
          ]
        }
      ],
      "source": [
        "# connect to website\n",
        "\n",
        "URL ='https://www.amazon.in/DUDEME-Sleeve-Cotton-Programmer-Developer/dp/B08FNP3JXF/ref=sr_1_1_sspa?crid=3A9WAOFWRKFHQ&keywords=coding+tshirt&qid=1686116514&sprefix=coding+%2Caps%2C497&sr=8-1-spons&sp_csd=d2lkZ2V0TmFtZT1zcF9hdGY&psc=1'\n",
        "\n",
        "headers = {\"User-Agent\": \"Mozilla/5.0 (Windows NT 10.0; Win64; x64) AppleWebKit/537.36 (KHTML, like Gecko) Chrome/113.0.0.0 Safari/537.36\"}\n",
        "\n",
        "page = requests.get(URL, headers=headers)\n",
        "\n",
        "soup1 = BeautifulSoup(page.content, \"html.parser\")\n",
        "\n",
        "soup2 = BeautifulSoup(soup1.prettify(), \"html.parser\")\n",
        "\n",
        "title = soup2.find('span',{'id':'productTitle'}).get_text()\n",
        "\n",
        "price = soup2.find('span',{'class':'a-price-whole'}).get_text()\n",
        "\n",
        "print(title)\n",
        "\n",
        "print(price)\n"
      ]
    },
    {
      "cell_type": "markdown",
      "source": [
        "Clean the data using strip functions"
      ],
      "metadata": {
        "id": "WYrNKJ65LkMJ"
      },
      "id": "WYrNKJ65LkMJ"
    },
    {
      "cell_type": "code",
      "execution_count": null,
      "id": "7ce66159",
      "metadata": {
        "id": "7ce66159",
        "outputId": "4c79c87b-f98a-40f9-84c8-b8431775e50f"
      },
      "outputs": [
        {
          "name": "stdout",
          "output_type": "stream",
          "text": [
            "DUDEME While Alive Eat Sleep Code | Geek Half Sleeve T Shirt for Men | Round Neck Cotton T Shirt | Programmer T Shirt | Developer T Shirt | Coding T Shirt for Coders\n",
            "499\n"
          ]
        }
      ],
      "source": [
        "# Clean up the data a little bit\n",
        "\n",
        "price = price.strip()\n",
        "title = title.strip()\n",
        "\n",
        "print(title)\n",
        "print(price)"
      ]
    },
    {
      "cell_type": "markdown",
      "source": [
        "Create a Timestamp using datetime"
      ],
      "metadata": {
        "id": "AUGYAy_TLqx6"
      },
      "id": "AUGYAy_TLqx6"
    },
    {
      "cell_type": "code",
      "execution_count": null,
      "id": "454a62bc",
      "metadata": {
        "id": "454a62bc",
        "outputId": "b72ab9c3-931a-40dd-901d-13db72bed22b"
      },
      "outputs": [
        {
          "name": "stdout",
          "output_type": "stream",
          "text": [
            "2023-06-07\n"
          ]
        }
      ],
      "source": [
        "# Create a Timestamp for your output to track when data was collected\n",
        "\n",
        "import datetime\n",
        "\n",
        "today = datetime.date.today()\n",
        "\n",
        "print(today)"
      ]
    },
    {
      "cell_type": "markdown",
      "source": [
        "Create a CSV and insert the scraped data from the Amazon website"
      ],
      "metadata": {
        "id": "Y-odoxsRLzJh"
      },
      "id": "Y-odoxsRLzJh"
    },
    {
      "cell_type": "code",
      "execution_count": null,
      "id": "10dc3823",
      "metadata": {
        "id": "10dc3823"
      },
      "outputs": [],
      "source": [
        "# Create CSV and write headers and data into the file\n",
        "\n",
        "import csv\n",
        "\n",
        "header = ['Title', 'Price', 'Date']\n",
        "data = [title, price, today]\n",
        "\n",
        "\n",
        "with open('AmazonWebScraperDataset.csv', 'w', newline='', encoding='UTF8') as f:\n",
        "    writer = csv.writer(f)\n",
        "    writer.writerow(header)\n",
        "    writer.writerow(data)\n",
        ""
      ]
    },
    {
      "cell_type": "code",
      "execution_count": null,
      "id": "103345de",
      "metadata": {
        "id": "103345de",
        "outputId": "3ada8070-8faf-4bd0-856a-aa007c4519fa"
      },
      "outputs": [
        {
          "name": "stdout",
          "output_type": "stream",
          "text": [
            "                                               Title  Price        Date\n",
            "0  DUDEME While Alive Eat Sleep Code | Geek Half ...    499  2023-06-07\n"
          ]
        }
      ],
      "source": [
        "import pandas as pd\n",
        "\n",
        "df = pd.read_csv(r'AmazonWebScraperDataset.csv')\n",
        "\n",
        "print(df)"
      ]
    },
    {
      "cell_type": "code",
      "execution_count": null,
      "id": "d272afad",
      "metadata": {
        "id": "d272afad"
      },
      "outputs": [],
      "source": [
        "#Now we are appending data to the csv\n",
        "\n",
        "with open('AmazonWebScraperDataset.csv', 'a+', newline='', encoding='UTF8') as f:\n",
        "    writer = csv.writer(f)\n",
        "    writer.writerow(data)"
      ]
    },
    {
      "cell_type": "markdown",
      "source": [
        "Create a function for future use"
      ],
      "metadata": {
        "id": "FFaeFAfqL_Ct"
      },
      "id": "FFaeFAfqL_Ct"
    },
    {
      "cell_type": "code",
      "execution_count": null,
      "id": "e57a9ade",
      "metadata": {
        "id": "e57a9ade"
      },
      "outputs": [],
      "source": [
        "#Combine all of the above code into one function\n",
        "\n",
        "\n",
        "def check_price():\n",
        "    URL ='https://www.amazon.in/DUDEME-Sleeve-Cotton-Programmer-Developer/dp/B08FNP3JXF/ref=sr_1_1_sspa?crid=3A9WAOFWRKFHQ&keywords=coding+tshirt&qid=1686116514&sprefix=coding+%2Caps%2C497&sr=8-1-spons&sp_csd=d2lkZ2V0TmFtZT1zcF9hdGY&psc=1'\n",
        "\n",
        "    headers = {\"User-Agent\": \"Mozilla/5.0 (Windows NT 10.0; Win64; x64) AppleWebKit/537.36 (KHTML, like Gecko) Chrome/113.0.0.0 Safari/537.36\"}\n",
        "\n",
        "    page = requests.get(URL, headers=headers)\n",
        "\n",
        "    soup1 = BeautifulSoup(page.content, \"html.parser\")\n",
        "\n",
        "    soup2 = BeautifulSoup(soup1.prettify(), \"html.parser\")\n",
        "\n",
        "    title = soup2.find('span',{'id':'productTitle'}).get_text()\n",
        "\n",
        "    price = soup2.find('span',{'class':'a-price-whole'}).get_text()\n",
        "\n",
        "\n",
        "    price = price.strip()\n",
        "    title = title.strip()\n",
        "\n",
        "    import datetime\n",
        "\n",
        "    today = datetime.date.today()\n",
        "\n",
        "    import csv\n",
        "\n",
        "    header = ['Title', 'Price', 'Date']\n",
        "    data = [title, price, today]\n",
        "\n",
        "    with open('AmazonWebScraperDataset.csv', 'a+', newline='', encoding='UTF8') as f:\n",
        "        writer = csv.writer(f)\n",
        "        writer.writerow(data)\n",
        "\n",
        "    if(price < 350):\n",
        "        send_mail()"
      ]
    },
    {
      "cell_type": "markdown",
      "source": [
        "Automate the process of price tracking after a certain time stamp"
      ],
      "metadata": {
        "id": "HZcZdl2AMG7B"
      },
      "id": "HZcZdl2AMG7B"
    },
    {
      "cell_type": "code",
      "execution_count": null,
      "id": "d95190ae",
      "metadata": {
        "id": "d95190ae"
      },
      "outputs": [],
      "source": [
        "# Runs check_price after a set time and inputs data into your CSV\n",
        "\n",
        "while(True):\n",
        "    check_price()\n",
        "    time.sleep(86400)"
      ]
    },
    {
      "cell_type": "code",
      "execution_count": null,
      "id": "2e0eff7e",
      "metadata": {
        "id": "2e0eff7e",
        "outputId": "13f57fb4-d676-496e-ce99-928e808b67e1"
      },
      "outputs": [
        {
          "name": "stdout",
          "output_type": "stream",
          "text": [
            "                                               Title  Price        Date\n",
            "0  DUDEME While Alive Eat Sleep Code | Geek Half ...    499  2023-06-07\n",
            "1  DUDEME While Alive Eat Sleep Code | Geek Half ...    499  2023-06-07\n"
          ]
        }
      ],
      "source": [
        "import pandas as pd\n",
        "df = pd.read_csv(r'AmazonWebScraperDataset.csv')\n",
        "\n",
        "print(df)"
      ]
    }
  ],
  "metadata": {
    "kernelspec": {
      "display_name": "Python 3 (ipykernel)",
      "language": "python",
      "name": "python3"
    },
    "language_info": {
      "codemirror_mode": {
        "name": "ipython",
        "version": 3
      },
      "file_extension": ".py",
      "mimetype": "text/x-python",
      "name": "python",
      "nbconvert_exporter": "python",
      "pygments_lexer": "ipython3",
      "version": "3.9.12"
    },
    "colab": {
      "provenance": []
    }
  },
  "nbformat": 4,
  "nbformat_minor": 5
}